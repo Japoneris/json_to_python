{
 "cells": [
  {
   "cell_type": "markdown",
   "metadata": {
    "collapsed": true
   },
   "source": [
    "**To do : find a way to rassemble similar objects**\n"
   ]
  },
  {
   "cell_type": "code",
   "execution_count": 1,
   "metadata": {
    "collapsed": true
   },
   "outputs": [],
   "source": [
    "import json"
   ]
  },
  {
   "cell_type": "code",
   "execution_count": 3,
   "metadata": {
    "collapsed": false
   },
   "outputs": [],
   "source": []
  },
  {
   "cell_type": "code",
   "execution_count": 2,
   "metadata": {
    "collapsed": true
   },
   "outputs": [],
   "source": [
    "txt = \"\"\"{\n",
    "    \"maps\": [\n",
    "        {\n",
    "            \"id\": \"blabla\",\n",
    "            \"iscategorical\": \"0\"\n",
    "        },\n",
    "        {\n",
    "            \"id\": \"blabla\",\n",
    "            \"iscategorical\": \"0\"\n",
    "        }\n",
    "    ],\n",
    "    \"masks\": {\n",
    "        \"id\": \"valore\"\n",
    "    },\n",
    "    \"om_points\": \"value\",\n",
    "    \"parameters\": {\n",
    "        \"id\": \"valore\"\n",
    "    }\n",
    "}\"\"\""
   ]
  },
  {
   "cell_type": "code",
   "execution_count": 292,
   "metadata": {
    "collapsed": true
   },
   "outputs": [],
   "source": [
    "txt = \"\"\"{\n",
    "    \"identity\": {\n",
    "        \"local\": \":Local\",\n",
    "        \"version\": 1,\n",
    "        \n",
    "    },\n",
    "    \"ciphers\": [/*Cipher list to decrypt the share_private_key*/]\n",
    "}\"\"\""
   ]
  },
  {
   "cell_type": "markdown",
   "metadata": {},
   "source": []
  },
  {
   "cell_type": "code",
   "execution_count": 77,
   "metadata": {
    "collapsed": true
   },
   "outputs": [],
   "source": [
    "def object_of_level(serial) :\n",
    "    \"\"\"\n",
    "    Look at an object\n",
    "    extract basic types\n",
    "    return uncommon types\n",
    "    \"\"\"\n",
    "    KEYS = serial.keys()\n",
    "    UNCLASSED = []\n",
    "    CLASSED = []\n",
    "    cnt = 0\n",
    "    \n",
    "    for idx, i in enumerate(KEYS) :\n",
    "        ob = serial[i]\n",
    "        ty = None\n",
    "        if type(ob) == list :\n",
    "            #empty list ?\n",
    "            ob = ob[0]\n",
    "            ty = check_type(ob)\n",
    "            print(\"this is a list of \", ty)\n",
    "            CLASSED.append([ty])\n",
    "        else :\n",
    "            ty = check_type(ob)\n",
    "            print(\"this is a \", ty)\n",
    "            CLASSED.append(ty)\n",
    "            \n",
    "        if ty == dict :\n",
    "            UNCLASSED.append(ob)\n",
    "            cnt += 1\n",
    "            \n",
    "    return CLASSED, UNCLASSED\n",
    "        \n",
    "\n",
    "def check_type(item) :\n",
    "    if type(item) == dict :\n",
    "        return dict\n",
    "    try :\n",
    "        f = float(item)\n",
    "        if f == round(f) :\n",
    "            return int\n",
    "        else :\n",
    "            return float\n",
    "    except :\n",
    "        if item == \"true\" or item == \"false\" :\n",
    "            return bool\n",
    "        else :\n",
    "            return str\n",
    "            \n",
    "def python_repr_type (ty, level, objname):\n",
    "    if ty == bool : \n",
    "        return True\n",
    "    elif ty == int :\n",
    "        return 0\n",
    "    elif ty == float :\n",
    "        return 0.1\n",
    "    elif ty == str :\n",
    "        return '\"string\"'\n",
    "    elif ty == dict :\n",
    "        return \"{}{}\".format(objname, level)\n",
    "    return None"
   ]
  },
  {
   "cell_type": "markdown",
   "metadata": {},
   "source": [
    "#### Writable to python"
   ]
  },
  {
   "cell_type": "code",
   "execution_count": 81,
   "metadata": {
    "collapsed": true
   },
   "outputs": [],
   "source": [
    "def item_to_python_text(serial, classname=\"MyObject_\") :\n",
    "    KEYS = serial.keys()\n",
    "    cnt = 0\n",
    "    my_text = \"class {}(object) :\\n\".format(classname)\n",
    "    UNCLASSED = []\n",
    "    \n",
    "    for idx, i in enumerate(KEYS) :\n",
    "        ob = serial[i]\n",
    "        if type(ob) == list :\n",
    "            ob = ob[0]\n",
    "            ty = check_type(ob)\n",
    "            tx = python_repr_type(ty, cnt, classname)\n",
    "            my_text += \"    {} = [{}]\\n\".format(i, tx)\n",
    "\n",
    "        else :\n",
    "            ty = check_type(ob)\n",
    "            tx = python_repr_type(ty, cnt, classname)\n",
    "            my_text += \"    {} = {}\\n\".format(i, tx)\n",
    "        \n",
    "        if type(ob) == dict :\n",
    "            cnt+=1\n",
    "            UNCLASSED.append(ob)\n",
    "        \n",
    "    for idx, i in enumerate(UNCLASSED) :\n",
    "        my_text += \"\\n\" + item_to_python_text(i, classname=\"{}_{}\".format(classname, idx))\n",
    "    \n",
    "    return my_text\n",
    "\n",
    "def write_my_object(txti, name=\"testfile.py\") :\n",
    "    with open(name, \"w\") as file:  \n",
    "        file.write(txti)\n",
    "        \n"
   ]
  },
  {
   "cell_type": "code",
   "execution_count": 82,
   "metadata": {
    "collapsed": false
   },
   "outputs": [],
   "source": [
    "my_extractable_object= json.loads(txt)\n",
    "\n",
    "txt_exp = item_to_python_text(my_extractable_object)\n",
    "      \n",
    "write_my_object(txt_exp, \"create_class_v2.py\")"
   ]
  }
 ],
 "metadata": {
  "kernelspec": {
   "display_name": "Python 3",
   "language": "python",
   "name": "python3"
  },
  "language_info": {
   "codemirror_mode": {
    "name": "ipython",
    "version": 3
   },
   "file_extension": ".py",
   "mimetype": "text/x-python",
   "name": "python",
   "nbconvert_exporter": "python",
   "pygments_lexer": "ipython3",
   "version": "3.5.2"
  }
 },
 "nbformat": 4,
 "nbformat_minor": 0
}
